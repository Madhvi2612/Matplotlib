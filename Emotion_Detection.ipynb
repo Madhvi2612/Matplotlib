{
  "cells": [
    {
      "cell_type": "code",
      "execution_count": null,
      "metadata": {
        "id": "gqoZ207wI_Jy"
      },
      "outputs": [],
      "source": [
        "class Country:\n",
        "   def India(self):\n",
        "        print(\"Hello, I am a person.\")\n",
        "\n",
        "  def State(self):\n",
        "        print(\"Hello, I am a person.\")\n",
        "\n"
      ]
    },
    {
      "cell_type": "markdown",
      "metadata": {
        "id": "-OPg8yFeMOrM"
      },
      "source": [
        "23 nov 2024 class"
      ]
    },
    {
      "cell_type": "code",
      "execution_count": null,
      "metadata": {
        "colab": {
          "base_uri": "https://localhost:8080/"
        },
        "id": "adtRKO-KMNXC",
        "outputId": "9c69eaa4-e59f-4f76-9131-bbac791c98b9"
      },
      "outputs": [
        {
          "name": "stdout",
          "output_type": "stream",
          "text": [
            "Requirement already satisfied: textblob in /usr/local/lib/python3.10/dist-packages (0.17.1)\n",
            "Requirement already satisfied: nltk>=3.1 in /usr/local/lib/python3.10/dist-packages (from textblob) (3.9.1)\n",
            "Requirement already satisfied: click in /usr/local/lib/python3.10/dist-packages (from nltk>=3.1->textblob) (8.1.7)\n",
            "Requirement already satisfied: joblib in /usr/local/lib/python3.10/dist-packages (from nltk>=3.1->textblob) (1.4.2)\n",
            "Requirement already satisfied: regex>=2021.8.3 in /usr/local/lib/python3.10/dist-packages (from nltk>=3.1->textblob) (2024.9.11)\n",
            "Requirement already satisfied: tqdm in /usr/local/lib/python3.10/dist-packages (from nltk>=3.1->textblob) (4.66.6)\n"
          ]
        }
      ],
      "source": [
        "pip install textblob\n"
      ]
    },
    {
      "cell_type": "code",
      "execution_count": null,
      "metadata": {
        "id": "rXVBjqS6OXaO"
      },
      "outputs": [],
      "source": [
        "from textblob import TextBlob"
      ]
    },
    {
      "cell_type": "code",
      "execution_count": null,
      "metadata": {
        "id": "U04R6R7IOnQw"
      },
      "outputs": [],
      "source": [
        "texts = [\"I like the Product\", \"Worst product ever\" ]"
      ]
    },
    {
      "cell_type": "code",
      "execution_count": null,
      "metadata": {
        "colab": {
          "base_uri": "https://localhost:8080/"
        },
        "id": "Z1ITrwDnQdnl",
        "outputId": "114db6c9-f3db-45f6-b60e-41fe68b85c87"
      },
      "outputs": [
        {
          "name": "stdout",
          "output_type": "stream",
          "text": [
            "0.0\n",
            "I like the Product\n",
            "-1.0\n",
            "Worst product ever\n"
          ]
        }
      ],
      "source": [
        "for text in texts:\n",
        "  blob = TextBlob(text)\n",
        "  sentiment = blob.sentiment.polarity\n",
        "  print (sentiment)\n",
        "  print (text)"
      ]
    },
    {
      "cell_type": "code",
      "execution_count": null,
      "metadata": {
        "colab": {
          "base_uri": "https://localhost:8080/"
        },
        "id": "nh2QIOx8T-AH",
        "outputId": "a8b1712a-848e-4da7-e420-95a3cd9d67d8"
      },
      "outputs": [
        {
          "name": "stdout",
          "output_type": "stream",
          "text": [
            "Enter the text: i like the movie\n",
            "Enter the text: i hate movie\n",
            "Enter the text: i love to watch\n",
            "Enter the text: worst movie\n",
            "Enter the text: worst food\n",
            "i like the movie=Positive\n",
            "i hate movie=Negative\n",
            "i love to watch=Positive\n",
            "worst movie=Negative\n",
            "worst food=Negative\n"
          ]
        }
      ],
      "source": [
        "reviews=[]\n",
        "for i in range(1,6):\n",
        " texts = input(\"Enter the text: \")\n",
        " reviews.append(texts)\n",
        "\n",
        "for text in reviews:\n",
        "  blob = TextBlob(text)\n",
        "  sentiment = blob.sentiment.polarity\n",
        "  if sentiment >= 0:\n",
        "    print(f\"{text}=Positive\")\n",
        "  else :\n",
        "    print(f\"{text}=Negative\")\n",
        "\n",
        "\n"
      ]
    },
    {
      "cell_type": "code",
      "execution_count": null,
      "metadata": {
        "colab": {
          "base_uri": "https://localhost:8080/"
        },
        "id": "h4PG8uhGYUBP",
        "outputId": "1889fd4a-f9ec-4175-c7b0-057d0bd9dee6"
      },
      "outputs": [
        {
          "name": "stdout",
          "output_type": "stream",
          "text": [
            "Collecting nrclex\n",
            "  Downloading NRCLex-4.0-py3-none-any.whl.metadata (3.2 kB)\n",
            "Requirement already satisfied: textblob in /usr/local/lib/python3.10/dist-packages (from nrclex) (0.17.1)\n",
            "INFO: pip is looking at multiple versions of nrclex to determine which version is compatible with other requirements. This could take a while.\n",
            "  Downloading NRCLex-3.0.0.tar.gz (396 kB)\n",
            "\u001b[?25l     \u001b[90m━━━━━━━━━━━━━━━━━━━━━━━━━━━━━━━━━━━━━━━━\u001b[0m \u001b[32m0.0/396.4 kB\u001b[0m \u001b[31m?\u001b[0m eta \u001b[36m-:--:--\u001b[0m\r\u001b[2K     \u001b[90m━━━━━━━━━━━━━━━━━━━━━━━━━━━━━━━━━━━━━━━━\u001b[0m \u001b[32m396.4/396.4 kB\u001b[0m \u001b[31m19.8 MB/s\u001b[0m eta \u001b[36m0:00:00\u001b[0m\n",
            "\u001b[?25h  Preparing metadata (setup.py) ... \u001b[?25l\u001b[?25hdone\n",
            "Requirement already satisfied: nltk>=3.1 in /usr/local/lib/python3.10/dist-packages (from textblob->nrclex) (3.9.1)\n",
            "Requirement already satisfied: click in /usr/local/lib/python3.10/dist-packages (from nltk>=3.1->textblob->nrclex) (8.1.7)\n",
            "Requirement already satisfied: joblib in /usr/local/lib/python3.10/dist-packages (from nltk>=3.1->textblob->nrclex) (1.4.2)\n",
            "Requirement already satisfied: regex>=2021.8.3 in /usr/local/lib/python3.10/dist-packages (from nltk>=3.1->textblob->nrclex) (2024.9.11)\n",
            "Requirement already satisfied: tqdm in /usr/local/lib/python3.10/dist-packages (from nltk>=3.1->textblob->nrclex) (4.66.6)\n",
            "Building wheels for collected packages: nrclex\n",
            "  Building wheel for nrclex (setup.py) ... \u001b[?25l\u001b[?25hdone\n",
            "  Created wheel for nrclex: filename=NRCLex-3.0.0-py3-none-any.whl size=43308 sha256=19e2c1de8a2ff318652163d02da5020b4dd611e989c49d32e2f402bdd4f4ac68\n",
            "  Stored in directory: /root/.cache/pip/wheels/d2/10/44/6abfb1234298806a145fd6bcaec8cbc712e88dd1cd6cb242fa\n",
            "Successfully built nrclex\n",
            "Installing collected packages: nrclex\n",
            "Successfully installed nrclex-3.0.0\n"
          ]
        }
      ],
      "source": [
        "pip install nrclex"
      ]
    },
    {
      "cell_type": "code",
      "execution_count": null,
      "metadata": {
        "colab": {
          "base_uri": "https://localhost:8080/"
        },
        "id": "FLiWWFCcY3BX",
        "outputId": "a1c9f27d-8c6e-4dcf-9336-fd30376cd6f6"
      },
      "outputs": [
        {
          "name": "stderr",
          "output_type": "stream",
          "text": [
            "[nltk_data] Downloading package vader_lexicon to /root/nltk_data...\n"
          ]
        },
        {
          "data": {
            "text/plain": [
              "True"
            ]
          },
          "execution_count": 15,
          "metadata": {},
          "output_type": "execute_result"
        }
      ],
      "source": [
        "import nltk\n",
        "nltk.download('vader_lexicon')"
      ]
    },
    {
      "cell_type": "code",
      "execution_count": null,
      "metadata": {
        "colab": {
          "base_uri": "https://localhost:8080/"
        },
        "id": "f9F_OSXZZtvp",
        "outputId": "27325a53-5346-40f0-d6f2-6df80276da19"
      },
      "outputs": [
        {
          "name": "stderr",
          "output_type": "stream",
          "text": [
            "[nltk_data] Downloading package punkt_tab to /root/nltk_data...\n",
            "[nltk_data]   Unzipping tokenizers/punkt_tab.zip.\n"
          ]
        },
        {
          "data": {
            "text/plain": [
              "True"
            ]
          },
          "execution_count": 20,
          "metadata": {},
          "output_type": "execute_result"
        }
      ],
      "source": [
        "import nltk\n",
        "nltk.download('punkt_tab')"
      ]
    },
    {
      "cell_type": "code",
      "execution_count": null,
      "metadata": {
        "colab": {
          "base_uri": "https://localhost:8080/"
        },
        "id": "FKip_mRFYCaT",
        "outputId": "764337b3-ddc0-439b-9d05-70b0eac0cf91"
      },
      "outputs": [
        {
          "name": "stdout",
          "output_type": "stream",
          "text": [
            " I am so happy and excited about this new job\n",
            "Emotions Detected [('positive', 0.3)]\n"
          ]
        }
      ],
      "source": [
        "from nrclex import NRCLex\n",
        "\n",
        "text = \" I am so happy and excited about this new job\"\n",
        "\n",
        "emotion = NRCLex(text)\n",
        "print(text)\n",
        "print(\"Emotions Detected\", emotion.top_emotions)"
      ]
    },
    {
      "cell_type": "code",
      "execution_count": null,
      "metadata": {
        "colab": {
          "base_uri": "https://localhost:8080/"
        },
        "id": "vC84k7k-Zh38",
        "outputId": "ceca3a5c-7456-44d6-d6a7-99244715731d"
      },
      "outputs": [
        {
          "name": "stdout",
          "output_type": "stream",
          "text": [
            " I am so happy and excited about this new job\n",
            "Emotions Detected [('positive', 0.3)]\n",
            "Not Happy\n"
          ]
        }
      ],
      "source": [
        "from nrclex import NRCLex\n",
        "\n",
        "text = \" I am so happy and excited about this new job\"\n",
        "\n",
        "emotion = NRCLex(text)\n",
        "print(text)\n",
        "print(\"Emotions Detected\", emotion.top_emotions)\n",
        "\n",
        "is_happy = any(emotion[0]=='Joy' for emotion in emotion.top_emotions)\n",
        "if is_happy == True:\n",
        " print(\"happy\")\n",
        "else:\n",
        "  print(\"Not Happy\")"
      ]
    },
    {
      "cell_type": "code",
      "execution_count": null,
      "metadata": {
        "colab": {
          "base_uri": "https://localhost:8080/"
        },
        "id": "G2zI-YkTVdgl",
        "outputId": "6d35cdb8-7f2e-4600-e835-47a40bd17a95"
      },
      "outputs": [
        {
          "output_type": "stream",
          "name": "stdout",
          "text": [
            "['the food was great']\n",
            "food=Positive\n",
            "['the service was very slow']\n",
            "service=Negative\n"
          ]
        }
      ],
      "source": [
        "from textblob import TextBlob\n",
        "\n",
        "text =\"the food was great.the service was very slow\"\n",
        "\n",
        "aspects = [\"food\",\"service\"]\n",
        "\n",
        "for aspect in aspects:\n",
        "  if aspect in text:\n",
        "    sentences = [sentence for sentence in text.split(\".\")if aspect in sentence]\n",
        "    print(sentences)\n",
        "    if sentences :\n",
        "     aspect_text = ' '. join (sentences)\n",
        "     aspect_blob = TextBlob(aspect_text)\n",
        "     sentiment = aspect_blob.sentiment.polarity\n",
        "    if sentiment > 0:\n",
        "     print(f\"{aspect}=Positive\")\n",
        "    else:\n",
        "     print(f\"{aspect}=Negative\")\n",
        "\n",
        "\n",
        "\n"
      ]
    },
    {
      "cell_type": "code",
      "execution_count": null,
      "metadata": {
        "colab": {
          "base_uri": "https://localhost:8080/",
          "height": 106
        },
        "id": "o7LoE5AJlE-f",
        "outputId": "1126def3-f0e1-4790-9484-644c648c3fad"
      },
      "outputs": [
        {
          "ename": "IndentationError",
          "evalue": "unindent does not match any outer indentation level (<tokenize>, line 10)",
          "output_type": "error",
          "traceback": [
            "\u001b[0;36m  File \u001b[0;32m\"<tokenize>\"\u001b[0;36m, line \u001b[0;32m10\u001b[0m\n\u001b[0;31m    aspect_text ='',join(sentences)\u001b[0m\n\u001b[0m    ^\u001b[0m\n\u001b[0;31mIndentationError\u001b[0m\u001b[0;31m:\u001b[0m unindent does not match any outer indentation level\n"
          ]
        }
      ],
      "source": [
        "from textblob import TextBlob\n",
        "\n",
        "text =\"the food was great but the service was very slow\"\n",
        "\n",
        "aspects = [\"food\",\"service\"]\n",
        "\n",
        "for aspect in aspects:\n",
        "  if aspect in text:\n",
        "    sentences = [sentence for sentence in text.split(\",\")if aspect in sentence]\n",
        "   aspect_text ='',join(sentences)\n",
        "   aspect_blob =\n",
        "\n",
        "    for sentence in sentences:\n",
        "      if aspect in sentence:\n",
        "        aspect_blob = TextBlob(text)\n",
        "        sentiment =aspect_blob.sentiment.polarity\n",
        "    if sentiment > 0:\n",
        "     print(f\"{aspect}=Positive\")\n",
        "    elif sentiment ==0 :\n",
        "     print(f\"{aspect}=Neutral\")\n",
        "    elif sentiment <0:\n",
        "     print(f\"{aspect}=Negative\")"
      ]
    },
    {
      "cell_type": "markdown",
      "metadata": {
        "id": "k9RIeiekVxns"
      },
      "source": [
        "input from user"
      ]
    }
  ],
  "metadata": {
    "colab": {
      "provenance": []
    },
    "kernelspec": {
      "display_name": "Python 3",
      "name": "python3"
    },
    "language_info": {
      "name": "python"
    }
  },
  "nbformat": 4,
  "nbformat_minor": 0
}