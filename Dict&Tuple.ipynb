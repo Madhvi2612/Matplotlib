{
  "nbformat": 4,
  "nbformat_minor": 0,
  "metadata": {
    "colab": {
      "provenance": []
    },
    "kernelspec": {
      "name": "python3",
      "display_name": "Python 3"
    },
    "language_info": {
      "name": "python"
    }
  },
  "cells": [
    {
      "cell_type": "code",
      "execution_count": null,
      "metadata": {
        "colab": {
          "base_uri": "https://localhost:8080/"
        },
        "id": "lUX3vN6m1jH7",
        "outputId": "c92af8be-5d7f-4273-dcc2-7ee1ea572012"
      },
      "outputs": [
        {
          "output_type": "stream",
          "name": "stdout",
          "text": [
            "(1, 2, 3)\n"
          ]
        }
      ],
      "source": [
        "tuple = (1, 2, 3)\n",
        "print (tuple)"
      ]
    },
    {
      "cell_type": "code",
      "source": [
        "tuple = (1, 2, 3)\n",
        "ttuple = tuple + (4,5,6,6,6)\n",
        "print (ttuple)"
      ],
      "metadata": {
        "colab": {
          "base_uri": "https://localhost:8080/"
        },
        "id": "y0k9dgVj1wUi",
        "outputId": "c632959a-958a-4d56-b587-79591f1350b5"
      },
      "execution_count": null,
      "outputs": [
        {
          "output_type": "stream",
          "name": "stdout",
          "text": [
            "(1, 2, 3, 4, 5, 6, 6, 6)\n"
          ]
        }
      ]
    },
    {
      "cell_type": "code",
      "source": [
        "Ram = (1,2,3,4,5,5)\n",
        "\n",
        "count_five = Ram.count(5)\n",
        "print(count_five)"
      ],
      "metadata": {
        "colab": {
          "base_uri": "https://localhost:8080/"
        },
        "id": "JSWZ9yZE2GT9",
        "outputId": "dfaec72c-d007-4a1e-da84-1f55851afe02"
      },
      "execution_count": null,
      "outputs": [
        {
          "output_type": "stream",
          "name": "stdout",
          "text": [
            "2\n"
          ]
        }
      ]
    },
    {
      "cell_type": "code",
      "source": [
        "index_five = Ram.index(5)\n",
        "print(index_five)"
      ],
      "metadata": {
        "colab": {
          "base_uri": "https://localhost:8080/"
        },
        "id": "YaQ_Ct_e2iQF",
        "outputId": "8a4c6081-2c76-4e0b-de7c-c39a9e5796a8"
      },
      "execution_count": null,
      "outputs": [
        {
          "output_type": "stream",
          "name": "stdout",
          "text": [
            "4\n"
          ]
        }
      ]
    },
    {
      "cell_type": "code",
      "source": [
        "index_two = Ram.index(2)\n",
        "print(index_two)"
      ],
      "metadata": {
        "colab": {
          "base_uri": "https://localhost:8080/"
        },
        "id": "sG_rJXVp3ENP",
        "outputId": "37a2610a-691e-42a3-a9fb-eb1171b918da"
      },
      "execution_count": null,
      "outputs": [
        {
          "output_type": "stream",
          "name": "stdout",
          "text": [
            "1\n"
          ]
        }
      ]
    },
    {
      "cell_type": "code",
      "source": [
        "index_four = Ram.index(4)\n",
        "print(index_four)"
      ],
      "metadata": {
        "colab": {
          "base_uri": "https://localhost:8080/"
        },
        "id": "_xeaWzok3Qts",
        "outputId": "fb837437-030a-4286-a062-3de3a51481a5"
      },
      "execution_count": null,
      "outputs": [
        {
          "output_type": "stream",
          "name": "stdout",
          "text": [
            "3\n"
          ]
        }
      ]
    },
    {
      "cell_type": "code",
      "source": [],
      "metadata": {
        "id": "lz10pCdW3t0m"
      },
      "execution_count": null,
      "outputs": []
    },
    {
      "cell_type": "code",
      "source": [
        "shree =(4,5,6,7,8,9)\n",
        "print(shree)"
      ],
      "metadata": {
        "colab": {
          "base_uri": "https://localhost:8080/"
        },
        "id": "7M2zY8WL3lkP",
        "outputId": "753df61a-d668-4463-8721-e19a6bd8b640"
      },
      "execution_count": null,
      "outputs": [
        {
          "output_type": "stream",
          "name": "stdout",
          "text": [
            "(4, 5, 6, 7, 8, 9)\n"
          ]
        }
      ]
    },
    {
      "cell_type": "code",
      "source": [
        "index_nine = shree.index(9)\n",
        "print(index_nine)"
      ],
      "metadata": {
        "colab": {
          "base_uri": "https://localhost:8080/"
        },
        "id": "8dVzEIcH3vWf",
        "outputId": "c3fb58ff-af03-4012-c870-3babe709d258"
      },
      "execution_count": null,
      "outputs": [
        {
          "output_type": "stream",
          "name": "stdout",
          "text": [
            "5\n"
          ]
        }
      ]
    },
    {
      "cell_type": "code",
      "source": [
        "res=shree.count(7)\n",
        "print(res)"
      ],
      "metadata": {
        "colab": {
          "base_uri": "https://localhost:8080/"
        },
        "id": "XDgkX_wX4QT8",
        "outputId": "3017e889-f60b-4b91-886f-de42dbc35d77"
      },
      "execution_count": null,
      "outputs": [
        {
          "output_type": "stream",
          "name": "stdout",
          "text": [
            "1\n"
          ]
        }
      ]
    },
    {
      "cell_type": "code",
      "source": [
        "t1=(1,2,3)\n",
        "print (t1)\n",
        "\n",
        "t2 = t1 + (4,5,6)\n",
        "print (t2)\n",
        "\n",
        "t3 = t2 * 2\n",
        "print (t3)\n",
        "\n",
        "print (t3[1:4]) # n-1 (4-1 = 3 (1,2,3))9"
      ],
      "metadata": {
        "colab": {
          "base_uri": "https://localhost:8080/"
        },
        "id": "Sdq1mIDA47D_",
        "outputId": "554d2cf4-c4d1-48a1-a584-1de282704432"
      },
      "execution_count": null,
      "outputs": [
        {
          "output_type": "stream",
          "name": "stdout",
          "text": [
            "(1, 2, 3)\n",
            "(1, 2, 3, 4, 5, 6)\n",
            "(1, 2, 3, 4, 5, 6, 1, 2, 3, 4, 5, 6)\n",
            "(2, 3, 4)\n"
          ]
        }
      ]
    },
    {
      "cell_type": "markdown",
      "source": [
        "Dictionary Curly brackect require\n",
        "\n",
        "{ \"a\":1, \"b\":2}"
      ],
      "metadata": {
        "id": "m4y7FKv59GJn"
      }
    },
    {
      "cell_type": "code",
      "source": [
        "fruits = {'apple': 2, 'banana': 3, 'orange': 0}\n",
        "print(fruits)"
      ],
      "metadata": {
        "colab": {
          "base_uri": "https://localhost:8080/"
        },
        "id": "R7PXrJyt8_P5",
        "outputId": "2d61bf47-05bd-4c1d-8f6e-b95c9dea3b3c"
      },
      "execution_count": null,
      "outputs": [
        {
          "output_type": "stream",
          "name": "stdout",
          "text": [
            "{'apple': 2, 'banana': 3, 'orange': 0}\n"
          ]
        }
      ]
    },
    {
      "cell_type": "code",
      "source": [
        "print(fruits[\"apple\"])"
      ],
      "metadata": {
        "colab": {
          "base_uri": "https://localhost:8080/"
        },
        "id": "PlxNH_VD9TPQ",
        "outputId": "e9db26ed-70f9-47be-a65e-a3838db25377"
      },
      "execution_count": null,
      "outputs": [
        {
          "output_type": "stream",
          "name": "stdout",
          "text": [
            "2\n"
          ]
        }
      ]
    },
    {
      "cell_type": "code",
      "source": [
        "print(type(fruits))"
      ],
      "metadata": {
        "colab": {
          "base_uri": "https://localhost:8080/"
        },
        "id": "BUzO9SH39l3y",
        "outputId": "2df09f9f-e57b-4b62-dbff-0459c5dd7daa"
      },
      "execution_count": null,
      "outputs": [
        {
          "output_type": "stream",
          "name": "stdout",
          "text": [
            "<class 'dict'>\n"
          ]
        }
      ]
    },
    {
      "cell_type": "code",
      "source": [
        "students ={\n",
        "    101: \"Ram\",\n",
        "    102: \"Shyam\",\n",
        "    103: \"Hari\"\n",
        "}\n",
        "print(students)\n",
        "print(students[101])"
      ],
      "metadata": {
        "colab": {
          "base_uri": "https://localhost:8080/"
        },
        "id": "Yp_zFktE-YyH",
        "outputId": "16881472-43ff-4dc2-9498-c86bc33b8f26"
      },
      "execution_count": null,
      "outputs": [
        {
          "output_type": "stream",
          "name": "stdout",
          "text": [
            "{101: 'Ram', 102: 'Shyam', 103: 'Hari'}\n",
            "Ram\n"
          ]
        }
      ]
    },
    {
      "cell_type": "code",
      "source": [
        "print(students.values())"
      ],
      "metadata": {
        "colab": {
          "base_uri": "https://localhost:8080/"
        },
        "id": "7AzSPryBECvu",
        "outputId": "436ca180-ad6d-4ebf-83aa-4cd5cd3ef1e1"
      },
      "execution_count": null,
      "outputs": [
        {
          "output_type": "stream",
          "name": "stdout",
          "text": [
            "dict_values(['Ram', 'Shyam', 'Hari'])\n"
          ]
        }
      ]
    },
    {
      "cell_type": "code",
      "source": [
        "print(students.keys())"
      ],
      "metadata": {
        "id": "EdUkmVfJETkJ",
        "outputId": "c230dfd9-28d2-4b9e-81cd-b6f3a4b7d874",
        "colab": {
          "base_uri": "https://localhost:8080/"
        }
      },
      "execution_count": null,
      "outputs": [
        {
          "output_type": "stream",
          "name": "stdout",
          "text": [
            "dict_keys([101, 102, 103])\n"
          ]
        }
      ]
    }
  ]
}